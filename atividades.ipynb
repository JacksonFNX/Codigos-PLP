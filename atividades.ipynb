{
 "cells": [
  {
   "cell_type": "markdown",
   "metadata": {},
   "source": [
    "Media entre duas notas"
   ]
  },
  {
   "cell_type": "code",
   "execution_count": 14,
   "metadata": {},
   "outputs": [
    {
     "name": "stdout",
     "output_type": "stream",
     "text": [
      "A primeira nota é:  9.0\n",
      "A segunda nota é:  6.0\n",
      "A média das notas é:  7.5\n"
     ]
    }
   ],
   "source": [
    "nota1 = float(input(\"Insira a primeira nota \"))\n",
    "nota2 = float(input(\"Insira a segunda nota \"))\n",
    "media = (nota1+nota2)/2\n",
    "print(\"A primeira nota é: \",nota1)\n",
    "print(\"A segunda nota é: \",nota2)\n",
    "print(\"A média das notas é: \", media)"
   ]
  },
  {
   "cell_type": "markdown",
   "metadata": {},
   "source": [
    "Cálculo desconto"
   ]
  },
  {
   "cell_type": "code",
   "execution_count": 11,
   "metadata": {},
   "outputs": [
    {
     "name": "stdout",
     "output_type": "stream",
     "text": [
      "O valor sem desconto é: R$ 100.0\n",
      "O desconto é de:  10.0 %\n",
      "O valor com desconto é: R$ 90.0\n"
     ]
    }
   ],
   "source": [
    "def desc(preco, desconto):\n",
    "  desco = ((desconto/100)*preco)\n",
    "  print(\"O valor sem desconto é: R$\",preco)\n",
    "  print(\"O desconto é de: \",desco,\"%\")\n",
    "  print(\"O valor com desconto é: R$\",preco - desco)\n",
    "\n",
    "preco = float(input(\"Informe o preço do produto: \"))\n",
    "desconto = float(input(\"Informe o desconto: \"))\n",
    "\n",
    "\n",
    "desc(preco, desconto)\n",
    "\n"
   ]
  },
  {
   "cell_type": "markdown",
   "metadata": {},
   "source": [
    "Tempo gasto por um fumante ao decorrer do anos"
   ]
  },
  {
   "cell_type": "code",
   "execution_count": 22,
   "metadata": {},
   "outputs": [
    {
     "name": "stdout",
     "output_type": "stream",
     "text": [
      "Você gastou 15.21 dias fumando.\n"
     ]
    }
   ],
   "source": [
    "\n",
    "def percaDias(qCigarros, tFumando):\n",
    "  pDias = (((qCigarros * (365*tFumando)) * 10)/60)/24\n",
    "  print(\"Você gastou {:.2f}\".format(pDias),\"dias fumando.\")\n",
    "  \n",
    "qCigarros = float(input(\"Quantos cigarros você fuma por dia? \"))\n",
    "tFumando = float(input(\"Há quantos anois você fuma? \"))\n",
    "\n",
    "percaDias(qCigarros, tFumando)"
   ]
  },
  {
   "cell_type": "markdown",
   "metadata": {},
   "source": [
    "Caixa registradora"
   ]
  },
  {
   "cell_type": "code",
   "execution_count": 23,
   "metadata": {},
   "outputs": [
    {
     "name": "stdout",
     "output_type": "stream",
     "text": [
      "Valor a pagar: R$ 6.00\n"
     ]
    }
   ],
   "source": [
    "def obter_preco_produto(codigo):\n",
    "    precos = {1: 0.50, 2: 1.00, 3: 4.00, 5: 7.00, 9: 8.00}\n",
    "    return precos.get(codigo, None)\n",
    "\n",
    "apagar = 0\n",
    "\n",
    "while True:\n",
    "    codigo = int(input(\"Digite o código do produto ou 0 para sair: \"))\n",
    "\n",
    "    if codigo == 0:\n",
    "        break\n",
    "\n",
    "    preco = obter_preco_produto(codigo)\n",
    "\n",
    "    if preco is not None:\n",
    "        quantidade = int(input(\"Quantidade: \"))\n",
    "        apagar += preco * quantidade\n",
    "    else:\n",
    "        print(\"Código inválido\")\n",
    "\n",
    "print(f\"Valor a pagar: R$ {apagar:.2f}\")"
   ]
  },
  {
   "cell_type": "markdown",
   "metadata": {},
   "source": [
    "Somar valores em vetor"
   ]
  },
  {
   "cell_type": "code",
   "execution_count": 24,
   "metadata": {},
   "outputs": [
    {
     "name": "stdout",
     "output_type": "stream",
     "text": [
      "A soma dos valores nas posições 2 e 3 é 7\n"
     ]
    }
   ],
   "source": [
    "tamanho_vetor = 8\n",
    "vetor = [int(input(f\"Digite o valor da posição {i}: \")) for i in range(tamanho_vetor)]\n",
    "\n",
    "x = int(input(\"Digite o valor de x: \"))\n",
    "y = int(input(\"Digite o valor de y: \"))\n",
    "\n",
    "if 0 <= x < tamanho_vetor and 0 <= y < tamanho_vetor:\n",
    "    total = vetor[x] + vetor[y]\n",
    "    print(f\"A soma dos valores nas posições {x} e {y} é {total}\")\n",
    "else:\n",
    "    print(\"Valores de x ou y fora do intervalo permitido.\")"
   ]
  },
  {
   "cell_type": "markdown",
   "metadata": {},
   "source": [
    "Maior e menor valores de um vetor de 10 posições"
   ]
  },
  {
   "cell_type": "code",
   "execution_count": null,
   "metadata": {},
   "outputs": [],
   "source": [
    "vetor = [int(input(f\"Digite o elemento {i}: \")) for i in range(10)]\n",
    "\n",
    "maior = max(vetor)\n",
    "menor = min(vetor)\n",
    "maiorq = sum(1 for elemento in vetor if elemento > 5)\n",
    "total = sum(vetor)\n",
    "media = total / 10\n",
    "\n",
    "print(f\"O maior elemento do vetor é {maior}\")\n",
    "print(f\"O menor elemento do vetor é {menor}\")\n",
    "print(f\"A quantidade de elementos maior que 5 é: {maiorq}\")\n",
    "print(f\"A soma de todos os elementos é de {total}\")\n",
    "print(f\"A média de todos os elementos é de {media}\")"
   ]
  },
  {
   "cell_type": "markdown",
   "metadata": {},
   "source": [
    "Calcula aumento de salário"
   ]
  },
  {
   "cell_type": "code",
   "execution_count": null,
   "metadata": {},
   "outputs": [],
   "source": [
    "salario = float(input(\"Informe seu salário: \"))\n",
    "\n",
    "if salario > 1250:\n",
    "    aumento = salario * 0.10\n",
    "else:\n",
    "    aumento = salario * 0.15\n",
    "\n",
    "novo_salario = salario + aumento\n",
    "\n",
    "print(f\"Seu novo salário será de: R$ {novo_salario:.2f}\")\n",
    "print(f\"Seu aumento foi de: R$ {aumento:.2f}\")"
   ]
  },
  {
   "cell_type": "markdown",
   "metadata": {},
   "source": [
    "Operações entre vetores"
   ]
  },
  {
   "cell_type": "code",
   "execution_count": null,
   "metadata": {},
   "outputs": [],
   "source": [
    "\n",
    "def ler_lista(nome_lista, tamanho):\n",
    "    lista = [int(input(f\"Digite os {tamanho} valores da {nome_lista}: \")) for _ in range(tamanho)]\n",
    "    return lista\n",
    "\n",
    "tamanho_lista = 4\n",
    "vetor1 = ler_lista(\"lista 1\", tamanho_lista)\n",
    "vetor2 = ler_lista(\"lista 2\", tamanho_lista)\n",
    "\n",
    "print(f\"Lista 1: {vetor1}\")\n",
    "print(f\"Lista 2: {vetor2}\")\n",
    "\n",
    "conjunto1 = set(vetor1)\n",
    "conjunto2 = set(vetor2)\n",
    "\n",
    "print(\"Valores comuns nas duas listas:\", conjunto1 & conjunto2)\n",
    "print(\"Valores que só existem na primeira lista:\", conjunto1 - conjunto2)\n",
    "print(\"Valores que só existem na segunda lista:\", conjunto2 - conjunto1)\n",
    "print(\"Valores não repetidos nas duas listas:\", conjunto1 ^ conjunto2)"
   ]
  },
  {
   "cell_type": "markdown",
   "metadata": {},
   "source": [
    "Criando vetor a partir de outros vetores"
   ]
  },
  {
   "cell_type": "code",
   "execution_count": null,
   "metadata": {},
   "outputs": [],
   "source": [
    "def ler_vetor(nome_vetor):\n",
    "    vetor = [int(input(f\"Digite o elemento {i} do vetor {nome_vetor}: \")) for i in range(10)]\n",
    "    return vetor\n",
    "\n",
    "vetorA = ler_vetor(\"A\")\n",
    "vetorB = ler_vetor(\"B\")\n",
    "vetorC = [vetorA[i] - vetorB[i] for i in range(10)]\n",
    "\n",
    "print(f\"Vetor C: {vetorC}\")"
   ]
  },
  {
   "cell_type": "markdown",
   "metadata": {},
   "source": [
    " Faça um programa em Python que receba 6 numeros inteiros e mostre: ´\n",
    "  • Os numeros pares digitados;\n",
    "  • A soma dos numeros pares digitados;\n",
    "  • Os numeros   ımpares digitados;\n",
    "  • A quantidade de numeros  ımpares"
   ]
  },
  {
   "cell_type": "code",
   "execution_count": null,
   "metadata": {},
   "outputs": [],
   "source": [
    "numeros = []\n",
    "numPar = []\n",
    "numImp = []\n",
    "\n",
    "for i in range(6):\n",
    "    numeros.append(int(input(\"Digite um número: \")))\n",
    "\n",
    "for numero in numeros:\n",
    "    if numero % 2 == 0:\n",
    "        numPar.append(numero)\n",
    "    else:\n",
    "        numImp.append(numero)\n",
    "\n",
    "somaPar = sum(numPar)\n",
    "\n",
    "print(f\"Os números pares são: {numPar}\")\n",
    "print(\"A soma dos números pares é:\", somaPar)\n",
    "print(f\"Os números ímpares são: {numImp}\")\n",
    "print(\"O total de números ímpares é:\", len(numImp))"
   ]
  },
  {
   "cell_type": "markdown",
   "metadata": {},
   "source": [
    "Faça um programa em Python para gerar automaticamente numeros entre 0 e 99 de uma cartela de bingo.\n",
    "#Sabendo que cada cartela devera conter 5 linhas de 5 numeros, gere estes dados de modo a nao ter numeros repetidos dentro das cartelas. O programa deve exibir na ´\n",
    "tela a cartela gerada."
   ]
  },
  {
   "cell_type": "code",
   "execution_count": null,
   "metadata": {},
   "outputs": [],
   "source": [
    "import random\n",
    "\n",
    "numeros = set()\n",
    "cartela = []\n",
    "for i in range(5):\n",
    "    numero = random.randint(0,99)\n",
    "    while numero in numeros:\n",
    "        numero = random.randint(0,99)\n",
    "    numeros.add(numero)\n",
    "    cartela.append(numero)\n",
    "\n",
    "print(f\"Cartela de bingo: {cartela}\")\n",
    "for linha in cartela:\n",
    "    print(linha)\n"
   ]
  },
  {
   "cell_type": "markdown",
   "metadata": {},
   "source": [
    " Crie um dicionário que é uma agenda e coloque nele os seguintes dados: chave (cpf),\n",
    " nome, idade, telefone. O programa deve ler um número indeterminado de dados, criar a\n",
    " agenda e imprimir todos os itens do dicionário no formato chave: nome, idade, fone."
   ]
  },
  {
   "cell_type": "code",
   "execution_count": null,
   "metadata": {},
   "outputs": [],
   "source": [
    "agenda = {}\n",
    "\n",
    "while True:\n",
    "    cpf = input(\"Digite o CPF: \")\n",
    "    nome = input(\"Digite o nome: \")\n",
    "    idade = input(\"Digite a idade: \")\n",
    "    telefone = input(\"Digite o telefone: \")\n",
    "\n",
    "    agenda[cpf] = {\n",
    "        \"nome\": nome,\n",
    "        \"idade\": idade,\n",
    "        \"telefone\": telefone,\n",
    "    }\n",
    "\n",
    "    continuar = input(\"Deseja continuar (s/n)? \")\n",
    "    if continuar.lower() != \"s\":\n",
    "        break\n",
    "\n",
    "for cpf, contato in agenda.items():\n",
    "    print(f\"CPF: {cpf}, Nome: {contato['nome']}, Idade: {contato['idade']}, Telefone: {contato['telefone']}\")"
   ]
  }
 ],
 "metadata": {
  "kernelspec": {
   "display_name": "Python 3",
   "language": "python",
   "name": "python3"
  },
  "language_info": {
   "codemirror_mode": {
    "name": "ipython",
    "version": 3
   },
   "file_extension": ".py",
   "mimetype": "text/x-python",
   "name": "python",
   "nbconvert_exporter": "python",
   "pygments_lexer": "ipython3",
   "version": "3.11.4"
  },
  "orig_nbformat": 4
 },
 "nbformat": 4,
 "nbformat_minor": 2
}
